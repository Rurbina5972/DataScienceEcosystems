{
 "cells": [
  {
   "cell_type": "markdown",
   "id": "fa03befe-c369-43d1-95ac-21b34f09a142",
   "metadata": {},
   "source": [
    "# Data Science Tools and Ecosystem"
   ]
  },
  {
   "cell_type": "markdown",
   "id": "1da2eac0-c006-4b17-9097-071be8971d4e",
   "metadata": {},
   "source": [
    "In this notebook, Data Science Tools and Ecosystem are summarized."
   ]
  },
  {
   "cell_type": "markdown",
   "id": "81a9ad95-2fa9-4576-9c76-cebe5f878f9b",
   "metadata": {},
   "source": [
    "Some of the popular languages that Data Scientists use are:\n",
    "1. Python\n",
    "2. R\n",
    "3. SQL\n",
    "4. Julia\n",
    "5. MATLAB\n",
    "   "
   ]
  },
  {
   "cell_type": "markdown",
   "id": "17fc30ef-dbf4-498e-b015-b84232de1a7a",
   "metadata": {},
   "source": [
    "Some of the commonly used libraries used by Data Scientists include:\n",
    "1. Numpy\n",
    "2. TensorFlow\n",
    "3. Pandas\n",
    "4. Plotly\n",
    "5. Matplotlib"
   ]
  },
  {
   "cell_type": "markdown",
   "id": "85379dfe-758d-4f2c-ab21-be7d548658f9",
   "metadata": {},
   "source": [
    "|Data Science Tools|\n",
    "|---|\n",
    "|Spyder|\n",
    "|Apache Spark|\n",
    "|Apache Hadoop|"
   ]
  },
  {
   "cell_type": "markdown",
   "id": "d6f2bed3-6fab-47aa-bf91-4bedade84ba3",
   "metadata": {},
   "source": [
    "### Below are a few examples of evaluating arithmetic expressions in Python"
   ]
  },
  {
   "cell_type": "code",
   "execution_count": null,
   "id": "d9055ef6-b09a-4926-88d3-ecaf882ccd94",
   "metadata": {},
   "outputs": [],
   "source": [
    "#This is a simple arithmetic expression to multiply then add integers\n",
    "(3*4)+5"
   ]
  },
  {
   "cell_type": "code",
   "execution_count": 4,
   "id": "4f5de5c6-22ad-4718-9bc9-8bba7806045a",
   "metadata": {},
   "outputs": [
    {
     "data": {
      "text/plain": [
       "3.3333333333333335"
      ]
     },
     "execution_count": 4,
     "metadata": {},
     "output_type": "execute_result"
    }
   ],
   "source": [
    "#This will convert 200 minutes to hours by dividing by 60\n",
    "200/60"
   ]
  },
  {
   "cell_type": "markdown",
   "id": "84e5f48a-4f4d-4d28-b6a2-df3543086234",
   "metadata": {},
   "source": [
    "__Objectives:__\n",
    "* List popular languages for Data Science\n",
    "* List commonly used libraries for Data Science\n",
    "* List commonly used tools for Data Science"
   ]
  },
  {
   "cell_type": "markdown",
   "id": "6e6f071e-67ca-40f3-8330-578def891ebe",
   "metadata": {},
   "source": [
    "## Author\n",
    "Rachel Urbina"
   ]
  },
  {
   "cell_type": "code",
   "execution_count": null,
   "id": "02399588-a2f7-4c22-a360-d640a75efd60",
   "metadata": {},
   "outputs": [],
   "source": []
  }
 ],
 "metadata": {
  "kernelspec": {
   "display_name": "anaconda-2024.02-py310",
   "language": "python",
   "name": "conda-env-anaconda-2024.02-py310-py"
  },
  "language_info": {
   "codemirror_mode": {
    "name": "ipython",
    "version": 3
   },
   "file_extension": ".py",
   "mimetype": "text/x-python",
   "name": "python",
   "nbconvert_exporter": "python",
   "pygments_lexer": "ipython3",
   "version": "3.10.14"
  },
  "panel-cell-order": [
   "48eb89b6-8e75-43a6-a28a-fb67dcd9628f"
  ]
 },
 "nbformat": 4,
 "nbformat_minor": 5
}
